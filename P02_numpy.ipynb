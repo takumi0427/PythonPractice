{
  "nbformat": 4,
  "nbformat_minor": 0,
  "metadata": {
    "colab": {
      "name": "P02_numpy.ipynb",
      "version": "0.3.2",
      "provenance": [],
      "collapsed_sections": [
        "lF3tFAFJW2OY",
        "sl3BOEechzUn"
      ],
      "include_colab_link": true
    },
    "kernelspec": {
      "name": "python3",
      "display_name": "Python 3"
    }
  },
  "cells": [
    {
      "cell_type": "markdown",
      "metadata": {
        "id": "view-in-github",
        "colab_type": "text"
      },
      "source": [
        "<a href=\"https://colab.research.google.com/github/takumi0427/PythonPractice/blob/master/P02_numpy.ipynb\" target=\"_parent\"><img src=\"https://colab.research.google.com/assets/colab-badge.svg\" alt=\"Open In Colab\"/></a>"
      ]
    },
    {
      "metadata": {
        "id": "WK_74R4qjx5E",
        "colab_type": "text"
      },
      "cell_type": "markdown",
      "source": [
        "#Practice02 Numpyによる配列計算"
      ]
    },
    {
      "metadata": {
        "id": "M2L0aYJikQ22",
        "colab_type": "text"
      },
      "cell_type": "markdown",
      "source": [
        "##Numpyとは\n",
        "Pythonで学術計算をするためのライブラリ  \n",
        "計算が高速になったり、より楽になったり．  \n",
        "機械学習などのライブラリでも頻繁に使われるため，必須知識である．  \n",
        "(https://algorithm.joho.info/programming/python/numpy-sample-code/)"
      ]
    },
    {
      "metadata": {
        "id": "8KkTsw8ikdiO",
        "colab_type": "text"
      },
      "cell_type": "markdown",
      "source": [
        "##ライブラリ"
      ]
    },
    {
      "metadata": {
        "id": "9Pgo2vdkikl1",
        "colab_type": "code",
        "colab": {}
      },
      "cell_type": "code",
      "source": [
        "import numpy as np\n",
        "import scipy.stats as sst\n",
        "#結果を可視化するためのパッケージmatplotlib（別途解説）\n",
        "import matplotlib.pyplot as plt"
      ],
      "execution_count": 0,
      "outputs": []
    },
    {
      "metadata": {
        "id": "b317YjZPj7VV",
        "colab_type": "text"
      },
      "cell_type": "markdown",
      "source": [
        "##1次元配列ベクトル"
      ]
    },
    {
      "metadata": {
        "id": "oMz8ZVszj1tH",
        "colab_type": "code",
        "outputId": "37a7dfde-a0ea-4ed2-f1b5-000fb17589f8",
        "colab": {
          "base_uri": "https://localhost:8080/",
          "height": 52
        }
      },
      "cell_type": "code",
      "source": [
        "print(np.arange(0, 5))\n",
        "print(np.arange(0, 12, 3))"
      ],
      "execution_count": 0,
      "outputs": [
        {
          "output_type": "stream",
          "text": [
            "[0 1 2 3 4]\n",
            "[0 3 6 9]\n"
          ],
          "name": "stdout"
        }
      ]
    },
    {
      "metadata": {
        "id": "7OyO3aDvoh2j",
        "colab_type": "text"
      },
      "cell_type": "markdown",
      "source": [
        "####等差数列"
      ]
    },
    {
      "metadata": {
        "id": "6LxSQKLdogYv",
        "colab_type": "code",
        "outputId": "5a41acb1-4941-4907-dbe9-9511c9128cf6",
        "colab": {
          "base_uri": "https://localhost:8080/",
          "height": 52
        }
      },
      "cell_type": "code",
      "source": [
        "np.linspace(start=1, stop=11, num=10)"
      ],
      "execution_count": 0,
      "outputs": [
        {
          "output_type": "execute_result",
          "data": {
            "text/plain": [
              "array([ 1.        ,  2.11111111,  3.22222222,  4.33333333,  5.44444444,\n",
              "        6.55555556,  7.66666667,  8.77777778,  9.88888889, 11.        ])"
            ]
          },
          "metadata": {
            "tags": []
          },
          "execution_count": 18
        }
      ]
    },
    {
      "metadata": {
        "id": "bB05QsFEphB-",
        "colab_type": "text"
      },
      "cell_type": "markdown",
      "source": [
        "####ソート・条件抽出"
      ]
    },
    {
      "metadata": {
        "id": "hxqqjxP2pf8g",
        "colab_type": "code",
        "outputId": "cbe77d01-fb12-4870-e4e4-9ae5cdd6fb0d",
        "colab": {
          "base_uri": "https://localhost:8080/",
          "height": 105
        }
      },
      "cell_type": "code",
      "source": [
        "#降順は[::-1]\n",
        "sarr = np.array([3,5,1])\n",
        "print(np.sort(sarr)); print()\n",
        "print(np.sort(sarr)[::-1]); print()\n",
        "\n",
        "#条件にあった数字だけ出力\n",
        "b = sarr > 1\n",
        "print(sarr[b])"
      ],
      "execution_count": 0,
      "outputs": [
        {
          "output_type": "stream",
          "text": [
            "[1 3 5]\n",
            "\n",
            "[5 3 1]\n",
            "\n",
            "[3 5]\n"
          ],
          "name": "stdout"
        }
      ]
    },
    {
      "metadata": {
        "id": "Yqmh5bKzrtLR",
        "colab_type": "text"
      },
      "cell_type": "markdown",
      "source": [
        "####重複除去"
      ]
    },
    {
      "metadata": {
        "id": "xO8ky1ncrsKW",
        "colab_type": "code",
        "outputId": "cd5bb761-bc33-4c92-b482-aa4e6c9ec4d2",
        "colab": {
          "base_uri": "https://localhost:8080/",
          "height": 140
        }
      },
      "cell_type": "code",
      "source": [
        "#通常のリストの場合はset関数\n",
        "sample = [1,2,3,3,4,4,4]\n",
        "print(set(sample)); print()\n",
        "\n",
        "#numpyの場合はunique関数\n",
        "#2次元以上でも適用可能\n",
        "sample2 = np.array(sample)\n",
        "print(np.unique(sample2)); print()\n",
        "#ユニーク要素の個数\n",
        "print(np.unique(sample2,return_counts=True)); print()\n",
        "#ユニーク要素が最初に出た位置\n",
        "print(np.unique(sample2,return_index=True))\n"
      ],
      "execution_count": 0,
      "outputs": [
        {
          "output_type": "stream",
          "text": [
            "{1, 2, 3, 4}\n",
            "\n",
            "[1 2 3 4]\n",
            "\n",
            "(array([1, 2, 3, 4]), array([1, 1, 2, 3]))\n",
            "\n",
            "(array([1, 2, 3, 4]), array([0, 1, 2, 4]))\n"
          ],
          "name": "stdout"
        }
      ]
    },
    {
      "metadata": {
        "id": "ipqp4EdjS9Fg",
        "colab_type": "text"
      },
      "cell_type": "markdown",
      "source": [
        "##2次元配列"
      ]
    },
    {
      "metadata": {
        "id": "fA_F3PJIS5_2",
        "colab_type": "code",
        "outputId": "b66b5386-f31a-488d-9ba8-f0993f379a47",
        "colab": {
          "base_uri": "https://localhost:8080/",
          "height": 210
        }
      },
      "cell_type": "code",
      "source": [
        "#2次元配列作成\n",
        "arr1 = np.array([[1,2,3],[3,4,5]])\n",
        "print(arr1.dtype); print()\n",
        "print(arr1.size); print()\n",
        "print(arr1.shape); print()\n",
        "\n",
        "#データ型を同時に定義\n",
        "arr1 = np.array([[1,2,3],[3,4,5]],dtype=np.int32)\n",
        "print(arr1);print()\n",
        "#データ型を変更 \n",
        "arr2 = arr1.astype(np.float32)\n",
        "print(arr2)"
      ],
      "execution_count": 0,
      "outputs": [
        {
          "output_type": "stream",
          "text": [
            "int64\n",
            "\n",
            "6\n",
            "\n",
            "(2, 3)\n",
            "\n",
            "[[1 2 3]\n",
            " [3 4 5]]\n",
            "\n",
            "[[1. 2. 3.]\n",
            " [3. 4. 5.]]\n"
          ],
          "name": "stdout"
        }
      ]
    },
    {
      "metadata": {
        "id": "aLBLkI29pDYo",
        "colab_type": "text"
      },
      "cell_type": "markdown",
      "source": [
        "###要素の取得"
      ]
    },
    {
      "metadata": {
        "id": "tl5AidJ1pCZf",
        "colab_type": "code",
        "outputId": "a03b8df9-e77f-450d-cfc7-8820063f1864",
        "colab": {
          "base_uri": "https://localhost:8080/",
          "height": 122
        }
      },
      "cell_type": "code",
      "source": [
        "print(arr1[0])\n",
        "print(arr1[0][0])\n",
        "# 行, 列の直接指定\n",
        "print(arr1[0, 0])\n",
        "# スライス\n",
        "print(arr1[1:2])\n",
        "print(arr1[1:])\n",
        "print(arr1[:1])"
      ],
      "execution_count": 0,
      "outputs": [
        {
          "output_type": "stream",
          "text": [
            "[1 2 3]\n",
            "1\n",
            "1\n",
            "[[3 4 5]]\n",
            "[[3 4 5]]\n",
            "[[1 2 3]]\n"
          ],
          "name": "stdout"
        }
      ]
    },
    {
      "metadata": {
        "id": "aIdIAtdpWyBp",
        "colab_type": "text"
      },
      "cell_type": "markdown",
      "source": [
        "##ゼロ行列，単位行列"
      ]
    },
    {
      "metadata": {
        "id": "rpg2uFsdUnp7",
        "colab_type": "code",
        "outputId": "bf1bc126-9ed1-4fc0-ee80-00224cee0265",
        "colab": {
          "base_uri": "https://localhost:8080/",
          "height": 298
        }
      },
      "cell_type": "code",
      "source": [
        "#ゼロ行列\n",
        "print(np.zeros((2, 3))); print()\n",
        "#単位行列\n",
        "print(np.identity(4)); print()\n",
        "#全て任意の値\n",
        "print(np.ones((4, 4))); print()\n",
        "print(np.full((3, 3), 99))"
      ],
      "execution_count": 0,
      "outputs": [
        {
          "output_type": "stream",
          "text": [
            "[[0. 0. 0.]\n",
            " [0. 0. 0.]]\n",
            "\n",
            "[[1. 0. 0. 0.]\n",
            " [0. 1. 0. 0.]\n",
            " [0. 0. 1. 0.]\n",
            " [0. 0. 0. 1.]]\n",
            "\n",
            "[[1. 1. 1. 1.]\n",
            " [1. 1. 1. 1.]\n",
            " [1. 1. 1. 1.]\n",
            " [1. 1. 1. 1.]]\n",
            "\n",
            "[[99 99 99]\n",
            " [99 99 99]\n",
            " [99 99 99]]\n"
          ],
          "name": "stdout"
        }
      ]
    },
    {
      "metadata": {
        "id": "p34VGHL0-279",
        "colab_type": "text"
      },
      "cell_type": "markdown",
      "source": [
        "##空の配列\n",
        "中身を0や1のように初期化しないので生成が速い   \n",
        "その時メモリの残っているデータから要素を生成"
      ]
    },
    {
      "metadata": {
        "id": "cY7y5Hvf-0_T",
        "colab_type": "code",
        "outputId": "55c78815-21af-4d9d-e9ff-7a45c78970a8",
        "colab": {
          "base_uri": "https://localhost:8080/",
          "height": 87
        }
      },
      "cell_type": "code",
      "source": [
        "np.empty(10, np.int)"
      ],
      "execution_count": 0,
      "outputs": [
        {
          "output_type": "execute_result",
          "data": {
            "text/plain": [
              "array([4607182418800017408, 4611936218406686265, 4614438218199669874,\n",
              "       4616564918023705942, 4617815917920197746, 4619066917816689550,\n",
              "       4620317917713181355, 4621131067645901028, 4621756567594146930,\n",
              "       4622382067542392832])"
            ]
          },
          "metadata": {
            "tags": []
          },
          "execution_count": 24
        }
      ]
    },
    {
      "metadata": {
        "id": "lF3tFAFJW2OY",
        "colab_type": "text"
      },
      "cell_type": "markdown",
      "source": [
        "##乱数行列"
      ]
    },
    {
      "metadata": {
        "id": "CJuX9V28c1yb",
        "colab_type": "text"
      },
      "cell_type": "markdown",
      "source": [
        "###一様分布"
      ]
    },
    {
      "metadata": {
        "id": "vWchI0E4U3rL",
        "colab_type": "code",
        "outputId": "5c23bc42-a953-4640-efe8-945253753a83",
        "colab": {
          "base_uri": "https://localhost:8080/",
          "height": 538
        }
      },
      "cell_type": "code",
      "source": [
        "# 一様分布　0～1の範囲から\n",
        "print(np.random.rand());print()\n",
        "print(np.random.rand(2, 3));print()\n",
        "plt.hist(np.random.rand(1000));plt.title(\"rand(1000)\")\n",
        "# 一様分布　任意の範囲から\n",
        "print((5 - 2) * np.random.rand() + 2);print()\n",
        "# 一様分布　整数値取得\n",
        "print(np.random.randint(4, 10, (3, 3)))"
      ],
      "execution_count": 0,
      "outputs": [
        {
          "output_type": "stream",
          "text": [
            "0.816951378052722\n",
            "\n",
            "[[0.52313642 0.35737139 0.68443605]\n",
            " [0.11058706 0.63715374 0.38683381]]\n",
            "\n",
            "3.641908078678007\n",
            "\n",
            "[[9 7 7]\n",
            " [9 5 4]\n",
            " [9 9 7]]\n"
          ],
          "name": "stdout"
        },
        {
          "output_type": "display_data",
          "data": {
            "image/png": "[encoded data removed]",
            "text/plain": [
              "<Figure size 576x396 with 1 Axes>"
            ]
          },
          "metadata": {
            "tags": []
          }
        }
      ]
    },
    {
      "metadata": {
        "id": "QlKVoOjwc5t_",
        "colab_type": "text"
      },
      "cell_type": "markdown",
      "source": [
        "###正規分布　normal distribution　Gaussian distribution\n",
        "平均0，標準偏差1"
      ]
    },
    {
      "metadata": {
        "id": "VngRJpH9Wke0",
        "colab_type": "code",
        "outputId": "110dca55-4d53-4430-a29b-24024191fd49",
        "colab": {
          "base_uri": "https://localhost:8080/",
          "height": 503
        }
      },
      "cell_type": "code",
      "source": [
        "print(np.random.randn(3, 3));print()\n",
        "plt.subplot(121)\n",
        "plt.hist(np.random.randn(1000));plt.title(\"randn(1000)\")\n",
        "# 正規分布（任意の平均、標準偏差）\n",
        "print(np.random.normal(-2, 0.5, (3, 3)))\n",
        "plt.subplot(122)\n",
        "plt.hist(np.random.normal(-2, 0.5, 1000));plt.title(\"normal(-2, 0.5, 1000)\")"
      ],
      "execution_count": 0,
      "outputs": [
        {
          "output_type": "stream",
          "text": [
            "[[ 0.39432213  0.30520788  1.53131943]\n",
            " [-0.70462806  0.79198126 -0.01059251]\n",
            " [-0.60959008 -0.36810155 -2.2550662 ]]\n",
            "\n",
            "[[-1.8725726  -1.55212946 -1.9978436 ]\n",
            " [-2.61052951 -1.52464456 -2.391567  ]\n",
            " [-2.29424242 -2.0187982  -3.0000185 ]]\n"
          ],
          "name": "stdout"
        },
        {
          "output_type": "execute_result",
          "data": {
            "text/plain": [
              "Text(0.5, 1.0, 'normal(-2, 0.5, 1000)')"
            ]
          },
          "metadata": {
            "tags": []
          },
          "execution_count": 26
        },
        {
          "output_type": "display_data",
          "data": {
            "image/png": "[encoded data removed]",
            "text/plain": [
              "<Figure size 576x396 with 2 Axes>"
            ]
          },
          "metadata": {
            "tags": []
          }
        }
      ]
    },
    {
      "metadata": {
        "id": "VQ5XZU49c_oG",
        "colab_type": "text"
      },
      "cell_type": "markdown",
      "source": [
        "###二項分布　binomial distribution\n",
        "結果が成功か失敗のいずれかである試行（ベルヌーイ試行）を独立にn回行ったときの成功回数を確率変数とする離散確率分布である。  \n",
        "ただし、各試行における成功確率 p は一定とする。"
      ]
    },
    {
      "metadata": {
        "id": "2-T2fLI5YKaz",
        "colab_type": "code",
        "outputId": "6691809d-b740-4870-cebb-0ea09694b7cf",
        "colab": {
          "base_uri": "https://localhost:8080/",
          "height": 397
        }
      },
      "cell_type": "code",
      "source": [
        "n = 10\n",
        "p = 0.5\n",
        "print(np.random.binomial(n, p, 4))\n",
        "plt.hist(np.random.binomial(n, p, 1000));plt.title(\"binomial(n=\"+str(n)+\",p=\"+str(p)+\",sample=1000)\")"
      ],
      "execution_count": 0,
      "outputs": [
        {
          "output_type": "stream",
          "text": [
            "[3 7 3 3]\n"
          ],
          "name": "stdout"
        },
        {
          "output_type": "execute_result",
          "data": {
            "text/plain": [
              "Text(0.5, 1.0, 'binomial(n=10,p=0.5,sample=1000)')"
            ]
          },
          "metadata": {
            "tags": []
          },
          "execution_count": 27
        },
        {
          "output_type": "display_data",
          "data": {
            "image/png": "[encoded data removed]",
            "text/plain": [
              "<Figure size 576x396 with 1 Axes>"
            ]
          },
          "metadata": {
            "tags": []
          }
        }
      ]
    },
    {
      "metadata": {
        "id": "vyyCwi9bdChR",
        "colab_type": "text"
      },
      "cell_type": "markdown",
      "source": [
        "###ベータ分布　beta distribution\n",
        "ベイズ統計学において二項分布の共役事前分布として登場する有名な分布  \n",
        "パラメータa,bで分布形状が大きく異なる．"
      ]
    },
    {
      "metadata": {
        "id": "r9kN6ZrEbx7m",
        "colab_type": "code",
        "outputId": "1ac58b7e-400e-41e3-9b41-133135bdd003",
        "colab": {
          "base_uri": "https://localhost:8080/",
          "height": 380
        }
      },
      "cell_type": "code",
      "source": [
        "a=2\n",
        "b=2\n",
        "plt.hist(np.random.beta(a, b, 1000));plt.title(\"beta(a=\"+str(a)+\",b=\"+str(b)+\",sample=1000)\")"
      ],
      "execution_count": 0,
      "outputs": [
        {
          "output_type": "execute_result",
          "data": {
            "text/plain": [
              "Text(0.5, 1.0, 'beta(a=2,b=2,sample=1000)')"
            ]
          },
          "metadata": {
            "tags": []
          },
          "execution_count": 28
        },
        {
          "output_type": "display_data",
          "data": {
            "image/png": "[encoded data removed]",
            "text/plain": [
              "<Figure size 576x396 with 1 Axes>"
            ]
          },
          "metadata": {
            "tags": []
          }
        }
      ]
    },
    {
      "metadata": {
        "id": "y4NNjFPEdgox",
        "colab_type": "text"
      },
      "cell_type": "markdown",
      "source": [
        "###ガンマ分布　gamma distribution\n",
        "その性質は形状母数 k、尺度母数 θ の2つの母数で特徴づけられる。  \n",
        "主に信頼性工学における電子部品の寿命分布や通信工学におけるトラフィックの待ち時間分布に応用される。  \n",
        "また所得分布にも応用される。"
      ]
    },
    {
      "metadata": {
        "id": "MN6EMeDKd3J1",
        "colab_type": "code",
        "outputId": "b534dac5-70aa-4880-b03d-249cc3f7da7f",
        "colab": {
          "base_uri": "https://localhost:8080/",
          "height": 380
        }
      },
      "cell_type": "code",
      "source": [
        "k  = 5\n",
        "tt = 1\n",
        "plt.hist(np.random.gamma(k, tt, 1000));plt.title(\"gamma(k=\"+str(k)+\",θ=\"+str(tt)+\",sample=1000)\")"
      ],
      "execution_count": 0,
      "outputs": [
        {
          "output_type": "execute_result",
          "data": {
            "text/plain": [
              "Text(0.5, 1.0, 'gamma(k=5,θ=1,sample=1000)')"
            ]
          },
          "metadata": {
            "tags": []
          },
          "execution_count": 29
        },
        {
          "output_type": "display_data",
          "data": {
            "image/png": "[encoded data removed]",
            "text/plain": [
              "<Figure size 576x396 with 1 Axes>"
            ]
          },
          "metadata": {
            "tags": []
          }
        }
      ]
    },
    {
      "metadata": {
        "id": "RRTOdHH_e3Xd",
        "colab_type": "text"
      },
      "cell_type": "markdown",
      "source": [
        "###カイ二乗分布 \n",
        "推計統計学で最も広く利用される"
      ]
    },
    {
      "metadata": {
        "id": "WyuY6iANfF24",
        "colab_type": "code",
        "outputId": "06dfba35-75cd-4c27-81b4-24fcc3fac0d5",
        "colab": {
          "base_uri": "https://localhost:8080/",
          "height": 380
        }
      },
      "cell_type": "code",
      "source": [
        "df = 5 #自由度\n",
        "plt.hist(np.random.chisquare(df, 1000));plt.title(\"chisquare(df=\"+str(df)+\",sample=1000)\")"
      ],
      "execution_count": 0,
      "outputs": [
        {
          "output_type": "execute_result",
          "data": {
            "text/plain": [
              "Text(0.5, 1.0, 'chisquare(df=5,sample=1000)')"
            ]
          },
          "metadata": {
            "tags": []
          },
          "execution_count": 30
        },
        {
          "output_type": "display_data",
          "data": {
            "image/png": "[encoded data removed]",
            "text/plain": [
              "<Figure size 576x396 with 1 Axes>"
            ]
          },
          "metadata": {
            "tags": []
          }
        }
      ]
    },
    {
      "metadata": {
        "id": "jHTsOcXVUb6H",
        "colab_type": "code",
        "outputId": "12a88fa8-e754-4707-e533-2d27e6297219",
        "colab": {
          "base_uri": "https://localhost:8080/",
          "height": 34
        }
      },
      "cell_type": "code",
      "source": [
        "#サイズ（行数，列数）タプル\n",
        "arr2.shape"
      ],
      "execution_count": 0,
      "outputs": [
        {
          "output_type": "execute_result",
          "data": {
            "text/plain": [
              "(2, 3)"
            ]
          },
          "metadata": {
            "tags": []
          },
          "execution_count": 31
        }
      ]
    },
    {
      "metadata": {
        "id": "LnsHu7mPf9ll",
        "colab_type": "text"
      },
      "cell_type": "markdown",
      "source": [
        "##配列の整形"
      ]
    },
    {
      "metadata": {
        "id": "sl3BOEechzUn",
        "colab_type": "text"
      },
      "cell_type": "markdown",
      "source": [
        "###リシェイプ"
      ]
    },
    {
      "metadata": {
        "id": "0jnXDM9phV9x",
        "colab_type": "code",
        "outputId": "8b4d7430-0ac3-4d27-e620-ca1e72f8d189",
        "colab": {
          "base_uri": "https://localhost:8080/",
          "height": 266
        }
      },
      "cell_type": "code",
      "source": [
        "arr3 = np.array([[1, 3, 5, 7], [2, 4, 6, 8], [9, 10, 11,12]])\n",
        "print(arr3); print()\n",
        "#行数列数を任意に設定\n",
        "print(np.reshape(arr3, (2, 6))); print()\n",
        "#転置\n",
        "print(arr3.T); print()\n",
        "#1列に\n",
        "print(arr3.flatten())"
      ],
      "execution_count": 0,
      "outputs": [
        {
          "output_type": "stream",
          "text": [
            "[[ 1  3  5  7]\n",
            " [ 2  4  6  8]\n",
            " [ 9 10 11 12]]\n",
            "\n",
            "[[ 1  3  5  7  2  4]\n",
            " [ 6  8  9 10 11 12]]\n",
            "\n",
            "[[ 1  2  9]\n",
            " [ 3  4 10]\n",
            " [ 5  6 11]\n",
            " [ 7  8 12]]\n",
            "\n",
            "[ 1  3  5  7  2  4  6  8  9 10 11 12]\n"
          ],
          "name": "stdout"
        }
      ]
    },
    {
      "metadata": {
        "id": "4lFqDEIvg2gH",
        "colab_type": "text"
      },
      "cell_type": "markdown",
      "source": [
        "###列方向に結合"
      ]
    },
    {
      "metadata": {
        "id": "bIivrMQkf_JE",
        "colab_type": "code",
        "outputId": "0922334a-1c0d-4207-c956-229758240c16",
        "colab": {
          "base_uri": "https://localhost:8080/",
          "height": 105
        }
      },
      "cell_type": "code",
      "source": [
        "a = np.array([[1, 3, 5], [2, 4, 6]])\n",
        "b = [[7, 9, 11], [8, 10, 12]]\n",
        "print(np.hstack([a,b])); print()\n",
        "print(np.c_[a, b])\n"
      ],
      "execution_count": 0,
      "outputs": [
        {
          "output_type": "stream",
          "text": [
            "[[ 1  3  5  7  9 11]\n",
            " [ 2  4  6  8 10 12]]\n",
            "\n",
            "[[ 1  3  5  7  9 11]\n",
            " [ 2  4  6  8 10 12]]\n"
          ],
          "name": "stdout"
        }
      ]
    },
    {
      "metadata": {
        "id": "KZHP-9tOhBFX",
        "colab_type": "text"
      },
      "cell_type": "markdown",
      "source": [
        "###行方向に結合"
      ]
    },
    {
      "metadata": {
        "id": "wsAnac-CgZ3M",
        "colab_type": "code",
        "outputId": "a3267042-d005-4e27-9d9e-150719dceb4d",
        "colab": {
          "base_uri": "https://localhost:8080/",
          "height": 175
        }
      },
      "cell_type": "code",
      "source": [
        "print(np.vstack([a,b])); print()\n",
        "print(np.r_[a, b])"
      ],
      "execution_count": 0,
      "outputs": [
        {
          "output_type": "stream",
          "text": [
            "[[ 1  3  5]\n",
            " [ 2  4  6]\n",
            " [ 7  9 11]\n",
            " [ 8 10 12]]\n",
            "\n",
            "[[ 1  3  5]\n",
            " [ 2  4  6]\n",
            " [ 7  9 11]\n",
            " [ 8 10 12]]\n"
          ],
          "name": "stdout"
        }
      ]
    },
    {
      "metadata": {
        "id": "ygbuAwaSkUyv",
        "colab_type": "text"
      },
      "cell_type": "markdown",
      "source": [
        "###結合はconcatenateを使うと便利\n",
        "第3引数を0とするとvstack，1とするとhstack"
      ]
    },
    {
      "metadata": {
        "id": "Lvh8N7WTg_rj",
        "colab_type": "code",
        "outputId": "f2438b1b-ff67-46c4-9712-95a44b9dca06",
        "colab": {
          "base_uri": "https://localhost:8080/",
          "height": 122
        }
      },
      "cell_type": "code",
      "source": [
        "print(np.concatenate([a, b], 0))\n",
        "print(np.concatenate([a, b], 1))"
      ],
      "execution_count": 0,
      "outputs": [
        {
          "output_type": "stream",
          "text": [
            "[[ 1  3  5]\n",
            " [ 2  4  6]\n",
            " [ 7  9 11]\n",
            " [ 8 10 12]]\n",
            "[[ 1  3  5  7  9 11]\n",
            " [ 2  4  6  8 10 12]]\n"
          ],
          "name": "stdout"
        }
      ]
    },
    {
      "metadata": {
        "id": "BA2obihKmJdo",
        "colab_type": "text"
      },
      "cell_type": "markdown",
      "source": [
        "##基本計算"
      ]
    },
    {
      "metadata": {
        "id": "VKBCYuTXmjlt",
        "colab_type": "text"
      },
      "cell_type": "markdown",
      "source": [
        "要素を一括して四則演算"
      ]
    },
    {
      "metadata": {
        "id": "BuWbt7j9mMfJ",
        "colab_type": "code",
        "outputId": "15b2ce3c-ea94-4613-da53-ca6498152aaa",
        "colab": {
          "base_uri": "https://localhost:8080/",
          "height": 210
        }
      },
      "cell_type": "code",
      "source": [
        "a = np.array([[1, 3, 5], [2, 4, 6]])\n",
        "b = [[7, 9, 11], [8, 10, 12]]\n",
        "print(3 * a + 2); print()\n",
        "print(np.add(a,b))\n",
        "print(a + b)\n",
        "print(np.subtract(b,a))\n",
        "print(b - a)"
      ],
      "execution_count": 0,
      "outputs": [
        {
          "output_type": "stream",
          "text": [
            "[[ 5 11 17]\n",
            " [ 8 14 20]]\n",
            "\n",
            "[[ 8 12 16]\n",
            " [10 14 18]]\n",
            "[[ 8 12 16]\n",
            " [10 14 18]]\n",
            "[[6 6 6]\n",
            " [6 6 6]]\n",
            "[[6 6 6]\n",
            " [6 6 6]]\n"
          ],
          "name": "stdout"
        }
      ]
    },
    {
      "metadata": {
        "id": "oon5gA4vm7xI",
        "colab_type": "text"
      },
      "cell_type": "markdown",
      "source": [
        "####行列計算"
      ]
    },
    {
      "metadata": {
        "id": "hCgVvgm1mMm4",
        "colab_type": "code",
        "outputId": "734060fe-9b09-4518-e9e0-3b70d650d2d0",
        "colab": {
          "base_uri": "https://localhost:8080/",
          "height": 52
        }
      },
      "cell_type": "code",
      "source": [
        "M = np.asarray([[1,2,3], [2,3,4]])\n",
        "N = np.asarray([[1,2],[3,4], [5,6]])\n",
        "M.dot(N)"
      ],
      "execution_count": 0,
      "outputs": [
        {
          "output_type": "execute_result",
          "data": {
            "text/plain": [
              "array([[22, 28],\n",
              "       [31, 40]])"
            ]
          },
          "metadata": {
            "tags": []
          },
          "execution_count": 37
        }
      ]
    },
    {
      "metadata": {
        "id": "xj74pVuevARO",
        "colab_type": "text"
      },
      "cell_type": "markdown",
      "source": [
        "##★要約統計量\n",
        "2次元の場合は，axisで行列方向を指定（0 =行方向）  \n",
        "axis無しは全ての要素から計算"
      ]
    },
    {
      "metadata": {
        "id": "VJqiLouumMvS",
        "colab_type": "code",
        "outputId": "87a95427-7f61-4c05-cea9-0035ae483489",
        "colab": {
          "base_uri": "https://localhost:8080/",
          "height": 776
        }
      },
      "cell_type": "code",
      "source": [
        "arr = np.array([[1,2,5,5], [2,3,3,1], [5,7,3,5]])\n",
        "print(\"Data\",arr)\n",
        "print(\"合計\",np.sum(arr, axis=0))\n",
        "\n",
        "#代表値\n",
        "print(\"相加平均\",np.mean(arr,axis=1))\n",
        "print(\"最頻値\",sst.mode(arr))\n",
        "print(\"中央値\",np.median(arr))\n",
        "print(\"パーセンタイル値\",np.percentile(arr, 95, axis=0))\n",
        "\n",
        "#ばらつき\n",
        "print(\"標本分散n\",np.var(arr))\n",
        "print(\"不偏分散n-1\",np.var(arr,ddof=1))\n",
        "print(\"標本標準偏差n\",np.std(arr,axis=0))\n",
        "print(\"不偏標準偏差n-1\",np.std(arr,axis=0,ddof=1))\n",
        "print(\"標本分散nによる正規化\",sst.zscore(arr[0]))\n",
        "print(\"不偏分散n-1による正規化\",sst.zscore(arr[0],ddof=1))\n",
        "print(\"共分散\",np.cov(arr[0],arr[2]))\n",
        "print(\"相関係数\",np.corrcoef(arr[0],arr[2])[0,0])\n",
        "\n",
        "#範囲\n",
        "print(\"最小値\",np.min(arr,axis=0))\n",
        "print(\"最大値\",np.max(arr))\n",
        "print(\"最大値の位置\",np.argmax(np.array([3,1,8])))\n",
        "print(\"最小値の位置\",np.argmin(np.array([3,1,8])))\n",
        "\n",
        "#累積\n",
        "print(\"累積和\",arr.cumsum(1))\n",
        "print(\"累積積\",np.cumprod(arr))\n",
        "\n",
        "#分布形状\n",
        "print(\"尖度\",sst.kurtosis(arr))\n",
        "print(\"歪度\",sst.skew(arr))\n",
        "\n",
        "#一括統計量\n",
        "print(\"基本統計量\",sst.describe(arr,axis=1))\n",
        "\n",
        "#数学\n",
        "print(\"指数関数EXP\",np.exp(arr))\n",
        "print(\"平方根\",np.sqrt(arr))\n",
        "print(\"対数変換\",np.log(arr))\n",
        "print(\"自然数\",np.e)\n",
        "print(\"円周率\",np.pi)\n",
        "print(np.gradient(np.array([1,3,5,1,8])))\n",
        "print(np.diff(np.array([1,3,5,1,8])))"
      ],
      "execution_count": 0,
      "outputs": [
        {
          "output_type": "stream",
          "text": [
            "Data [[1 2 5 5]\n",
            " [2 3 3 1]\n",
            " [5 7 3 5]]\n",
            "合計 [ 8 12 11 11]\n",
            "相加平均 [3.25 2.25 5.  ]\n",
            "最頻値 ModeResult(mode=array([[1, 2, 3, 5]]), count=array([[1, 1, 2, 2]]))\n",
            "中央値 3.0\n",
            "パーセンタイル値 [4.7 6.6 4.8 5. ]\n",
            "標本分散n 3.25\n",
            "不偏分散n-1 3.5454545454545454\n",
            "標本標準偏差n [1.69967317 2.1602469  0.94280904 1.88561808]\n",
            "不偏標準偏差n-1 [2.081666   2.64575131 1.15470054 2.30940108]\n",
            "標本分散nによる正規化 [-1.26025208 -0.70014004  0.98019606  0.98019606]\n",
            "不偏分散n-1による正規化 [-1.09141031 -0.60633906  0.84887469  0.84887469]\n",
            "共分散 [[ 4.25       -2.        ]\n",
            " [-2.          2.66666667]]\n",
            "相関係数 1.0\n",
            "最小値 [1 2 3 1]\n",
            "最大値 7\n",
            "最大値の位置 2\n",
            "最小値の位置 1\n",
            "累積和 [[ 1  3  8 13]\n",
            " [ 2  5  8  9]\n",
            " [ 5 12 15 20]]\n",
            "累積積 [     1      2     10     50    100    300    900    900   4500  31500\n",
            "  94500 472500]\n",
            "尖度 [-1.5 -1.5 -1.5 -1.5]\n",
            "歪度 [ 0.52800498  0.59517006  0.70710678 -0.70710678]\n",
            "基本統計量 DescribeResult(nobs=4, minmax=(array([1, 1, 3]), array([5, 3, 7])), mean=array([3.25, 2.25, 5.  ]), variance=array([4.25      , 0.91666667, 2.66666667]), skewness=array([-0.11531718, -0.4933822 ,  0.        ]), kurtosis=array([-1.84775087, -1.37190083, -1.        ]))\n",
            "指数関数EXP [[   2.71828183    7.3890561   148.4131591   148.4131591 ]\n",
            " [   7.3890561    20.08553692   20.08553692    2.71828183]\n",
            " [ 148.4131591  1096.63315843   20.08553692  148.4131591 ]]\n",
            "平方根 [[1.         1.41421356 2.23606798 2.23606798]\n",
            " [1.41421356 1.73205081 1.73205081 1.        ]\n",
            " [2.23606798 2.64575131 1.73205081 2.23606798]]\n",
            "対数変換 [[0.         0.69314718 1.60943791 1.60943791]\n",
            " [0.69314718 1.09861229 1.09861229 0.        ]\n",
            " [1.60943791 1.94591015 1.09861229 1.60943791]]\n",
            "自然数 2.718281828459045\n",
            "円周率 3.141592653589793\n",
            "[ 2.   2.  -1.   1.5  7. ]\n",
            "[ 2  2 -4  7]\n"
          ],
          "name": "stdout"
        }
      ]
    },
    {
      "metadata": {
        "id": "M769_Dp-BnnF",
        "colab_type": "text"
      },
      "cell_type": "markdown",
      "source": [
        "##畳み込み演算・移動平均"
      ]
    },
    {
      "metadata": {
        "id": "qY_woLqhBlsO",
        "colab_type": "code",
        "outputId": "44b249ad-21f1-45e6-e8fd-34fa333e2e27",
        "colab": {
          "base_uri": "https://localhost:8080/",
          "height": 70
        }
      },
      "cell_type": "code",
      "source": [
        "a = np.array([0, 1, 2, 3, 4, 5])\n",
        "v = np.array([0.2, 0.8])\n",
        "print(\"same\",np.convolve(a,v, mode='same'))\n",
        "print(\"full\",np.convolve(a, v, mode='full'))\n",
        "print(\"valid\",np.convolve(a, v, mode='valid'))"
      ],
      "execution_count": 0,
      "outputs": [
        {
          "output_type": "stream",
          "text": [
            "same [0.  0.2 1.2 2.2 3.2 4.2]\n",
            "full [0.  0.2 1.2 2.2 3.2 4.2 4. ]\n",
            "valid [0.2 1.2 2.2 3.2 4.2]\n"
          ],
          "name": "stdout"
        }
      ]
    },
    {
      "metadata": {
        "id": "eU4-49hFCRHN",
        "colab_type": "code",
        "outputId": "61d86eff-2860-46fb-fb89-16138ca60245",
        "colab": {
          "base_uri": "https://localhost:8080/",
          "height": 347
        }
      },
      "cell_type": "code",
      "source": [
        "x  = np.linspace(0, 10, 500)\n",
        "y1 = np.sin(x) # まずは元の信号を\n",
        "y2 = y1 + np.random.randn(500)*0.3 # ノイズを混ぜる\n",
        "v  = np.ones(5)/5.0 # 移動平均をとるための配列vを設定。今回は前後５つの値を用いて平均をとる。\n",
        "y3 = np.convolve(y2, v, mode='same')  # グラフを描く都合上'same'で。\n",
        "plt.plot(x, y1,'r',linewidth=3)\n",
        "plt.plot(x, y2,'b',linewidth=1)\n",
        "plt.plot(x, y3,'y',linewidth=1)\n",
        "plt.show()"
      ],
      "execution_count": 0,
      "outputs": [
        {
          "output_type": "display_data",
          "data": {
            "image/png": "[encoded data removed]",
            "text/plain": [
              "<Figure size 576x396 with 1 Axes>"
            ]
          },
          "metadata": {
            "tags": []
          }
        }
      ]
    },
    {
      "metadata": {
        "id": "Q0xZhkqR6Bpx",
        "colab_type": "text"
      },
      "cell_type": "markdown",
      "source": [
        "##配列同士の計算"
      ]
    },
    {
      "metadata": {
        "id": "8QKidMjpyGNG",
        "colab_type": "code",
        "outputId": "b3d30db7-1c2b-42e2-bab2-7ab2c50bcc31",
        "colab": {
          "base_uri": "https://localhost:8080/",
          "height": 34
        }
      },
      "cell_type": "code",
      "source": [
        "#c2にc1の要素があれば出力\n",
        "c1 = np.array(['A', 'B', 'C', 'D', 'A', 'D', 'G'])\n",
        "c2 = np.array(['B', 'C', 'D', 'F', 'G', 'I'])\n",
        "np.in1d(c1, c2)"
      ],
      "execution_count": 0,
      "outputs": [
        {
          "output_type": "execute_result",
          "data": {
            "text/plain": [
              "array([False,  True,  True,  True, False,  True,  True])"
            ]
          },
          "metadata": {
            "tags": []
          },
          "execution_count": 41
        }
      ]
    },
    {
      "metadata": {
        "id": "nqNtkaKiyRBK",
        "colab_type": "code",
        "outputId": "84045f1e-7e89-4396-9574-a61541b038b8",
        "colab": {
          "base_uri": "https://localhost:8080/",
          "height": 34
        }
      },
      "cell_type": "code",
      "source": [
        "#共通する要素があれば出力\n",
        "np.intersect1d(c1, c2)"
      ],
      "execution_count": 0,
      "outputs": [
        {
          "output_type": "execute_result",
          "data": {
            "text/plain": [
              "array(['B', 'C', 'D', 'G'], dtype='<U1')"
            ]
          },
          "metadata": {
            "tags": []
          },
          "execution_count": 42
        }
      ]
    },
    {
      "metadata": {
        "id": "HHRre8pNmM3H",
        "colab_type": "code",
        "outputId": "0e30cfa9-dfbf-4940-f0ab-ada59863132f",
        "colab": {
          "base_uri": "https://localhost:8080/",
          "height": 34
        }
      },
      "cell_type": "code",
      "source": [
        "#つなげてユニーク要素出力（ソート済み）\n",
        "np.union1d(c1, c2)"
      ],
      "execution_count": 0,
      "outputs": [
        {
          "output_type": "execute_result",
          "data": {
            "text/plain": [
              "array(['A', 'B', 'C', 'D', 'F', 'G', 'I'], dtype='<U1')"
            ]
          },
          "metadata": {
            "tags": []
          },
          "execution_count": 43
        }
      ]
    }
  ]
}