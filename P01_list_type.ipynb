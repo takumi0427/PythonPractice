{
  "nbformat": 4,
  "nbformat_minor": 0,
  "metadata": {
    "colab": {
      "name": "P01_list_type.ipynb",
      "version": "0.3.2",
      "provenance": [],
      "collapsed_sections": [],
      "toc_visible": true,
      "include_colab_link": true
    },
    "kernelspec": {
      "name": "python3",
      "display_name": "Python 3"
    }
  },
  "cells": [
    {
      "cell_type": "markdown",
      "metadata": {
        "id": "view-in-github",
        "colab_type": "text"
      },
      "source": [
        "<a href=\"https://colab.research.google.com/github/takumi0427/PythonPractice/blob/master/P01_list_type.ipynb\" target=\"_parent\"><img src=\"https://colab.research.google.com/assets/colab-badge.svg\" alt=\"Open In Colab\"/></a>"
      ]
    },
    {
      "metadata": {
        "id": "WK_74R4qjx5E",
        "colab_type": "text"
      },
      "cell_type": "markdown",
      "source": [
        "#Practice01 pythonの基本"
      ]
    },
    {
      "metadata": {
        "id": "M2L0aYJikQ22",
        "colab_type": "text"
      },
      "cell_type": "markdown",
      "source": [
        "##リスト\n",
        "Pythonでは「配列」ではなく基本的に何でも格納できる「リスト」が通常使われる  \n",
        "簡単だが，numpy.arrayより処理が遅い"
      ]
    },
    {
      "metadata": {
        "id": "8KkTsw8ikdiO",
        "colab_type": "text"
      },
      "cell_type": "markdown",
      "source": [
        "###リストの作成とアクセス"
      ]
    },
    {
      "metadata": {
        "id": "vfKv5irOhrzE",
        "colab_type": "code",
        "outputId": "02441848-5cc6-41ad-87ec-1e8d1a872d35",
        "colab": {
          "base_uri": "https://localhost:8080/",
          "height": 34
        }
      },
      "cell_type": "code",
      "source": [
        "list = [10, [20, 16], \"a\"]\n",
        "print(list)"
      ],
      "execution_count": 0,
      "outputs": [
        {
          "output_type": "stream",
          "text": [
            "[10, [20, 16], 'a']\n"
          ],
          "name": "stdout"
        }
      ]
    },
    {
      "metadata": {
        "id": "sX7nuKVelBnC",
        "colab_type": "code",
        "outputId": "8c28a3e9-2815-4f2d-eef4-d5401649b4c8",
        "colab": {
          "base_uri": "https://localhost:8080/",
          "height": 34
        }
      },
      "cell_type": "code",
      "source": [
        "#数列作成　NumPyではlinspace\n",
        "range(5)        #0,1,2,3,4\n",
        "range(2, 5)     #2,3,4\n",
        "range(1, 6, 2)  #1,3,5"
      ],
      "execution_count": 0,
      "outputs": [
        {
          "output_type": "execute_result",
          "data": {
            "text/plain": [
              "range(1, 6, 2)"
            ]
          },
          "metadata": {
            "tags": []
          },
          "execution_count": 6
        }
      ]
    },
    {
      "metadata": {
        "id": "vZNFvjjkh-ol",
        "colab_type": "code",
        "outputId": "b83f5ef7-fd5d-4b78-c168-723cd603244a",
        "colab": {
          "base_uri": "https://localhost:8080/",
          "height": 34
        }
      },
      "cell_type": "code",
      "source": [
        "print(list[1])"
      ],
      "execution_count": 0,
      "outputs": [
        {
          "output_type": "stream",
          "text": [
            "[20, 16]\n"
          ],
          "name": "stdout"
        }
      ]
    },
    {
      "metadata": {
        "id": "zIZL1Zdnid7w",
        "colab_type": "code",
        "outputId": "10c47afa-3a7d-4462-b628-6baa384d481b",
        "colab": {
          "base_uri": "https://localhost:8080/",
          "height": 34
        }
      },
      "cell_type": "code",
      "source": [
        "print(list[1][1])"
      ],
      "execution_count": 0,
      "outputs": [
        {
          "output_type": "stream",
          "text": [
            "16\n"
          ],
          "name": "stdout"
        }
      ]
    },
    {
      "metadata": {
        "id": "770_SlCWigsR",
        "colab_type": "code",
        "outputId": "f1b8f6a0-84e6-4b4c-f1b3-2c11b0e1e623",
        "colab": {
          "base_uri": "https://localhost:8080/",
          "height": 34
        }
      },
      "cell_type": "code",
      "source": [
        "#スライス\n",
        "print(list[0:2])"
      ],
      "execution_count": 0,
      "outputs": [
        {
          "output_type": "stream",
          "text": [
            "[10, [20, 16]]\n"
          ],
          "name": "stdout"
        }
      ]
    },
    {
      "metadata": {
        "id": "0E_f4Vs-iiA5",
        "colab_type": "code",
        "outputId": "3497ae62-4b62-428b-cd15-1ce9393a6994",
        "colab": {
          "base_uri": "https://localhost:8080/",
          "height": 34
        }
      },
      "cell_type": "code",
      "source": [
        "#最後からのアクセス\n",
        "print(list[-1])"
      ],
      "execution_count": 0,
      "outputs": [
        {
          "output_type": "stream",
          "text": [
            "a\n"
          ],
          "name": "stdout"
        }
      ]
    },
    {
      "metadata": {
        "id": "9Pgo2vdkikl1",
        "colab_type": "code",
        "outputId": "4628a9ca-9eea-4445-f16c-833c43390e52",
        "colab": {
          "base_uri": "https://localhost:8080/",
          "height": 34
        }
      },
      "cell_type": "code",
      "source": [
        "#要素への入力上書き\n",
        "list[2] = \"b\"\n",
        "print(list)"
      ],
      "execution_count": 0,
      "outputs": [
        {
          "output_type": "stream",
          "text": [
            "[10, [20, 16], 'b']\n"
          ],
          "name": "stdout"
        }
      ]
    },
    {
      "metadata": {
        "id": "AourL6Qhi3Hg",
        "colab_type": "code",
        "outputId": "18f4213a-972f-4a47-cb10-3cedd85925b4",
        "colab": {
          "base_uri": "https://localhost:8080/",
          "height": 34
        }
      },
      "cell_type": "code",
      "source": [
        "#リスト内の要素数\n",
        "print(len(list))"
      ],
      "execution_count": 0,
      "outputs": [
        {
          "output_type": "stream",
          "text": [
            "3\n"
          ],
          "name": "stdout"
        }
      ]
    },
    {
      "metadata": {
        "id": "lTY3iBVHjQk-",
        "colab_type": "text"
      },
      "cell_type": "markdown",
      "source": [
        "###要素の追加"
      ]
    },
    {
      "metadata": {
        "id": "fytyjODSiFm_",
        "colab_type": "code",
        "outputId": "2e771e79-f413-445c-975c-ff69af21d0e8",
        "colab": {
          "base_uri": "https://localhost:8080/",
          "height": 34
        }
      },
      "cell_type": "code",
      "source": [
        "#要素の追加\n",
        "list.append(\"c\")\n",
        "print(list)"
      ],
      "execution_count": 0,
      "outputs": [
        {
          "output_type": "stream",
          "text": [
            "[10, [20, 16], 'b', 'c']\n"
          ],
          "name": "stdout"
        }
      ]
    },
    {
      "metadata": {
        "id": "M1BfPajgi7FF",
        "colab_type": "code",
        "outputId": "66b3479b-e9d9-4429-ead5-408c2555ba5f",
        "colab": {
          "base_uri": "https://localhost:8080/",
          "height": 34
        }
      },
      "cell_type": "code",
      "source": [
        "#リストとして結合\n",
        "list.append([\"d1\", 1])\n",
        "print(list)"
      ],
      "execution_count": 0,
      "outputs": [
        {
          "output_type": "stream",
          "text": [
            "[10, [20, 16], 'b', 'c', ['d1', 1]]\n"
          ],
          "name": "stdout"
        }
      ]
    },
    {
      "metadata": {
        "id": "gNbSU5gui9Oz",
        "colab_type": "code",
        "outputId": "5e7f9b34-bb0f-4497-fa94-27d3b3603df0",
        "colab": {
          "base_uri": "https://localhost:8080/",
          "height": 34
        }
      },
      "cell_type": "code",
      "source": [
        "#分解して結合\n",
        "list.extend([\"d2\", 2])\n",
        "print(list)"
      ],
      "execution_count": 0,
      "outputs": [
        {
          "output_type": "stream",
          "text": [
            "[10, [20, 16], 'b', 'c', ['d1', 1], 'd2', 2]\n"
          ],
          "name": "stdout"
        }
      ]
    },
    {
      "metadata": {
        "id": "5sb544rRjAYB",
        "colab_type": "code",
        "outputId": "6cede188-b042-40aa-dc10-75f71857f7c6",
        "colab": {
          "base_uri": "https://localhost:8080/",
          "height": 34
        }
      },
      "cell_type": "code",
      "source": [
        "#extendと同じ\n",
        "list = list + [\"d3\", \"c\"]\n",
        "print(list)"
      ],
      "execution_count": 0,
      "outputs": [
        {
          "output_type": "stream",
          "text": [
            "[10, [20, 16], 'b', 'c', ['d1', 1], 'd2', 2, 'd3', 'c']\n"
          ],
          "name": "stdout"
        }
      ]
    },
    {
      "metadata": {
        "id": "14JrYvi3jB8m",
        "colab_type": "code",
        "outputId": "e4629d8d-3d48-4400-bf3a-81ec1d82e870",
        "colab": {
          "base_uri": "https://localhost:8080/",
          "height": 34
        }
      },
      "cell_type": "code",
      "source": [
        "#n回繰り返して結合\n",
        "list = list * 2\n",
        "print(list)"
      ],
      "execution_count": 0,
      "outputs": [
        {
          "output_type": "stream",
          "text": [
            "[10, [20, 16], 'b', 'c', ['d1', 1], 'd2', 2, 'd3', 'c', 10, [20, 16], 'b', 'c', ['d1', 1], 'd2', 2, 'd3', 'c']\n"
          ],
          "name": "stdout"
        }
      ]
    },
    {
      "metadata": {
        "id": "_xL0kEyYjDkD",
        "colab_type": "code",
        "outputId": "cbf0fe3f-e00f-4a93-da46-f4414d2f774b",
        "colab": {
          "base_uri": "https://localhost:8080/",
          "height": 34
        }
      },
      "cell_type": "code",
      "source": [
        "#指定箇所に挿入\n",
        "list.insert(1, \"c\")\n",
        "print(list)"
      ],
      "execution_count": 0,
      "outputs": [
        {
          "output_type": "stream",
          "text": [
            "[10, 'c', [20, 16], 'b', 'c', ['d1', 1], 'd2', 2, 'd3', 'c', 10, [20, 16], 'b', 'c', ['d1', 1], 'd2', 2, 'd3', 'c']\n"
          ],
          "name": "stdout"
        }
      ]
    },
    {
      "metadata": {
        "id": "Tw7Us9GajFFG",
        "colab_type": "code",
        "outputId": "0252112b-2d70-4048-9db2-f3fd3c29a99a",
        "colab": {
          "base_uri": "https://localhost:8080/",
          "height": 34
        }
      },
      "cell_type": "code",
      "source": [
        "#指定要素の削除\n",
        "del list[4:-2]\n",
        "print(list)"
      ],
      "execution_count": 0,
      "outputs": [
        {
          "output_type": "stream",
          "text": [
            "[10, 'c', [20, 16], 'b', 'd3', 'c']\n"
          ],
          "name": "stdout"
        }
      ]
    },
    {
      "metadata": {
        "id": "9TZm4TVejGwk",
        "colab_type": "code",
        "outputId": "b70789c3-f5a5-4dcd-b38a-556b2b9faa73",
        "colab": {
          "base_uri": "https://localhost:8080/",
          "height": 34
        }
      },
      "cell_type": "code",
      "source": [
        "#指定要素の削除\n",
        "list.pop(2)\n",
        "print(list)"
      ],
      "execution_count": 0,
      "outputs": [
        {
          "output_type": "stream",
          "text": [
            "[10, 'c', 'b', 'd3', 'c']\n"
          ],
          "name": "stdout"
        }
      ]
    },
    {
      "metadata": {
        "id": "aSlj00iRjIl9",
        "colab_type": "code",
        "outputId": "a97896d3-5d50-4d29-82e2-429f8422b5c9",
        "colab": {
          "base_uri": "https://localhost:8080/",
          "height": 34
        }
      },
      "cell_type": "code",
      "source": [
        "#指定要素内容の削除，最初だけ\n",
        "list.remove(\"c\")\n",
        "print(list)"
      ],
      "execution_count": 0,
      "outputs": [
        {
          "output_type": "stream",
          "text": [
            "[10, 'b', 'd3', 'c']\n"
          ],
          "name": "stdout"
        }
      ]
    },
    {
      "metadata": {
        "id": "ztCtb-NSjKPe",
        "colab_type": "text"
      },
      "cell_type": "markdown",
      "source": [
        "###Sort"
      ]
    },
    {
      "metadata": {
        "id": "X4ofpyPfiTw3",
        "colab_type": "code",
        "outputId": "5d779c8e-7baf-4dae-8a5c-4571b3c82a7a",
        "colab": {
          "base_uri": "https://localhost:8080/",
          "height": 34
        }
      },
      "cell_type": "code",
      "source": [
        "#昇順\n",
        "numlist = [5, 2, 3]\n",
        "numlist.sort()\n",
        "print(numlist)"
      ],
      "execution_count": 0,
      "outputs": [
        {
          "output_type": "stream",
          "text": [
            "[2, 3, 5]\n"
          ],
          "name": "stdout"
        }
      ]
    },
    {
      "metadata": {
        "id": "PDviBSFjivbD",
        "colab_type": "code",
        "outputId": "b77dd69e-2da6-4671-c23b-5ea34e025c95",
        "colab": {
          "base_uri": "https://localhost:8080/",
          "height": 34
        }
      },
      "cell_type": "code",
      "source": [
        "#降順\n",
        "strlist = [\"B\", \"C\", \"A\"]\n",
        "strlist.reverse()\n",
        "print(strlist)"
      ],
      "execution_count": 0,
      "outputs": [
        {
          "output_type": "stream",
          "text": [
            "['A', 'C', 'B']\n"
          ],
          "name": "stdout"
        }
      ]
    },
    {
      "metadata": {
        "id": "GBM5SRLgm6OT",
        "colab_type": "text"
      },
      "cell_type": "markdown",
      "source": [
        "###in:で要素を検索"
      ]
    },
    {
      "metadata": {
        "colab_type": "code",
        "outputId": "1becb2bc-f18d-41a9-e564-e4c4d07c8a1b",
        "id": "gbxaqUgEm2RM",
        "colab": {
          "base_uri": "https://localhost:8080/",
          "height": 52
        }
      },
      "cell_type": "code",
      "source": [
        "2 in numlist\n",
        "print(strlist.index(\"B\")) #指定箇所の位置\n",
        "print(strlist.count(\"B\")) #指定内容のカウント"
      ],
      "execution_count": 0,
      "outputs": [
        {
          "output_type": "stream",
          "text": [
            "2\n",
            "1\n"
          ],
          "name": "stdout"
        }
      ]
    },
    {
      "metadata": {
        "id": "IS-567tgmoDX",
        "colab_type": "text"
      },
      "cell_type": "markdown",
      "source": [
        "###join:文字列を結合"
      ]
    },
    {
      "metadata": {
        "id": "zh0ZkcLEmTVr",
        "colab_type": "code",
        "outputId": "9fd0891d-7860-4b21-eb74-ce3bbbe83166",
        "colab": {
          "base_uri": "https://localhost:8080/",
          "height": 52
        }
      },
      "cell_type": "code",
      "source": [
        "print(''.join(strlist))\n",
        "print('::'.join(strlist))"
      ],
      "execution_count": 0,
      "outputs": [
        {
          "output_type": "stream",
          "text": [
            "ACB\n",
            "A::C::B\n"
          ],
          "name": "stdout"
        }
      ]
    },
    {
      "metadata": {
        "id": "TGXUowAql7de",
        "colab_type": "text"
      },
      "cell_type": "markdown",
      "source": [
        "###リスト内包表記\n",
        "既存リストを元に、新たなリストを作成する"
      ]
    },
    {
      "metadata": {
        "id": "DnZgknCml5s4",
        "colab_type": "code",
        "outputId": "a1a03d3d-2773-4e03-85fe-8f293d3ae8d5",
        "colab": {
          "base_uri": "https://localhost:8080/",
          "height": 34
        }
      },
      "cell_type": "code",
      "source": [
        "list1 = [5, 2, 3]\n",
        "print([i*2 for i in list1])"
      ],
      "execution_count": 0,
      "outputs": [
        {
          "output_type": "stream",
          "text": [
            "[10, 4, 6]\n"
          ],
          "name": "stdout"
        }
      ]
    },
    {
      "metadata": {
        "id": "UBdBjpjW6JUA",
        "colab_type": "text"
      },
      "cell_type": "markdown",
      "source": [
        "###Listによる行列\n",
        "配列の配列によって行列も作成可能  \n",
        "基本的に行列計算やるときは，Numpyを使った方が良い"
      ]
    },
    {
      "metadata": {
        "id": "GXU_q-Bl6NOt",
        "colab_type": "code",
        "outputId": "eb746789-b6fa-47b1-9d9c-1e92ba913941",
        "colab": {
          "base_uri": "https://localhost:8080/",
          "height": 34
        }
      },
      "cell_type": "code",
      "source": [
        "#2次元配列\n",
        "list2d = [[0, 1, 2], [3, 4, 5]]\n",
        "print(list2d)"
      ],
      "execution_count": 0,
      "outputs": [
        {
          "output_type": "stream",
          "text": [
            "[[0, 1, 2], [3, 4, 5]]\n"
          ],
          "name": "stdout"
        }
      ]
    },
    {
      "metadata": {
        "id": "-ikdsehP7PCy",
        "colab_type": "code",
        "outputId": "bc3f1ef7-a9ac-49be-a3f7-cba00b5713bd",
        "colab": {
          "base_uri": "https://localhost:8080/",
          "height": 53
        }
      },
      "cell_type": "code",
      "source": [
        "print([[0]*3]*2)"
      ],
      "execution_count": 0,
      "outputs": [
        {
          "output_type": "stream",
          "text": [
            "[[0, 0, 0], [0, 0, 0]]\n",
            "[[0, 0, 0], [0, 0, 0]]\n"
          ],
          "name": "stdout"
        }
      ]
    },
    {
      "metadata": {
        "id": "upgUF_ke8IFC",
        "colab_type": "code",
        "outputId": "b91fb5ce-7c2c-45f8-f41a-e5ead6ba5db1",
        "colab": {
          "base_uri": "https://localhost:8080/",
          "height": 34
        }
      },
      "cell_type": "code",
      "source": [
        "print([[0 for i in range(3)] for j in range(2)])"
      ],
      "execution_count": 0,
      "outputs": [
        {
          "output_type": "stream",
          "text": [
            "[[0, 0, 0], [0, 0, 0]]\n"
          ],
          "name": "stdout"
        }
      ]
    },
    {
      "metadata": {
        "id": "n_m6_f7s8Kq5",
        "colab_type": "code",
        "outputId": "06b36066-0092-4127-84c3-752209de7580",
        "colab": {
          "base_uri": "https://localhost:8080/",
          "height": 34
        }
      },
      "cell_type": "code",
      "source": [
        "print([[1, 2, 3], [10, 20, 30], [100, 200, 300]])"
      ],
      "execution_count": 0,
      "outputs": [
        {
          "output_type": "stream",
          "text": [
            "[[1, 2, 3], [10, 20, 30], [100, 200, 300]]\n"
          ],
          "name": "stdout"
        }
      ]
    },
    {
      "metadata": {
        "id": "YuneaJ6c-Y0N",
        "colab_type": "text"
      },
      "cell_type": "markdown",
      "source": [
        "##タプル\n",
        "リストと同じように配列を作成できる．  \n",
        "リストとの違いは，変更ができない=イミュータブルなこと（追加はできる），実行速度が少し早いこと  \n",
        "要素内容を変更したくない変数を作りたい場合に使用する\n"
      ]
    },
    {
      "metadata": {
        "id": "s2JQ7-KhmUzT",
        "colab_type": "code",
        "outputId": "c13338ec-3824-40e3-f55e-f509cb92008b",
        "colab": {
          "base_uri": "https://localhost:8080/",
          "height": 52
        }
      },
      "cell_type": "code",
      "source": [
        "tuple1 = (2005,2006, 2007,2008)\n",
        "tuple1 + (2009,2010)\n",
        "print(tuple1)\n",
        "tuple1[2]\n",
        "tuple2 = ('東京都', '神奈川県', '大阪府')\n",
        "print(tuple2)"
      ],
      "execution_count": 0,
      "outputs": [
        {
          "output_type": "stream",
          "text": [
            "(2005, 2006, 2007, 2008)\n",
            "('東京都', '神奈川県', '大阪府')\n"
          ],
          "name": "stdout"
        }
      ]
    },
    {
      "metadata": {
        "id": "Wtk-bSmjCC05",
        "colab_type": "text"
      },
      "cell_type": "markdown",
      "source": [
        "##辞書型\n",
        "キーと値を組み合わせたdictionary（辞書）  \n",
        "リストのように順序がないため，キーを使う  \n",
        "pandasを使ったほうが様々な計算ができる"
      ]
    },
    {
      "metadata": {
        "id": "fTBD7ZXk_tiP",
        "colab_type": "code",
        "outputId": "211b37fc-ba01-45aa-ea06-d28f9c05867f",
        "colab": {
          "base_uri": "https://localhost:8080/",
          "height": 52
        }
      },
      "cell_type": "code",
      "source": [
        "# In[]: マップ型　ディクショナリ　順簿はないため、キーをつける\n",
        "dict1 = {\"yamada\":[75,43], \"endou\":[82,76]}\n",
        "print(dict1)\n",
        "#key yamadaで検索\n",
        "dict1[\"yamada\"][1]\n"
      ],
      "execution_count": 0,
      "outputs": [
        {
          "output_type": "stream",
          "text": [
            "{'yamada': [75, 43], 'endou': [82, 76]}\n"
          ],
          "name": "stdout"
        },
        {
          "output_type": "execute_result",
          "data": {
            "text/plain": [
              "43"
            ]
          },
          "metadata": {
            "tags": []
          },
          "execution_count": 59
        }
      ]
    },
    {
      "metadata": {
        "id": "Eri4jWW0DZpS",
        "colab_type": "text"
      },
      "cell_type": "markdown",
      "source": [
        "###要素の追加"
      ]
    },
    {
      "metadata": {
        "id": "Na4jf_QxCegk",
        "colab_type": "code",
        "outputId": "9154c487-6b5c-4d04-ca4d-35d5ac33151a",
        "colab": {
          "base_uri": "https://localhost:8080/",
          "height": 34
        }
      },
      "cell_type": "code",
      "source": [
        "dict1[\"itou\"] = [89,21]\n",
        "print(dict1)"
      ],
      "execution_count": 0,
      "outputs": [
        {
          "output_type": "stream",
          "text": [
            "{'yamada': [75, 43], 'endou': [82, 76], 'itou': [89, 21]}\n"
          ],
          "name": "stdout"
        }
      ]
    },
    {
      "metadata": {
        "id": "V1i8Z0PNEzj_",
        "colab_type": "text"
      },
      "cell_type": "markdown",
      "source": [
        "#if文"
      ]
    },
    {
      "metadata": {
        "id": "hc8wUBMRnOMk",
        "colab_type": "code",
        "outputId": "4e1c2843-a035-4777-dfb9-d04e83dbf285",
        "colab": {
          "base_uri": "https://localhost:8080/",
          "height": 34
        }
      },
      "cell_type": "code",
      "source": [
        "old = 25\n",
        "if old > 10 and old < 30:\n",
        "  print(\"old is between 10 and 30\")\n"
      ],
      "execution_count": 0,
      "outputs": [
        {
          "output_type": "stream",
          "text": [
            "old is between 10 and 30\n"
          ],
          "name": "stdout"
        }
      ]
    },
    {
      "metadata": {
        "id": "0p6N-TuOGKpq",
        "colab_type": "code",
        "outputId": "1b5ade66-015d-495c-deb8-282e1caeffa8",
        "colab": {
          "base_uri": "https://localhost:8080/",
          "height": 34
        }
      },
      "cell_type": "code",
      "source": [
        "sex = 3\n",
        "if sex == 1:\n",
        "  print(\"男性です\")\n",
        "else:\n",
        "  print(\"女性です\")"
      ],
      "execution_count": 0,
      "outputs": [
        {
          "output_type": "stream",
          "text": [
            "女性です\n"
          ],
          "name": "stdout"
        }
      ]
    },
    {
      "metadata": {
        "id": "1FZClFrVGl5O",
        "colab_type": "code",
        "outputId": "d12d717c-ea6f-4bcf-db44-5da6d5b891bc",
        "colab": {
          "base_uri": "https://localhost:8080/",
          "height": 34
        }
      },
      "cell_type": "code",
      "source": [
        "d = 3; f = 4\n",
        "if d != 2:\n",
        "    print(\"2歳ではありません\")\n",
        "elif d is not f:\n",
        "    print(\"dとfは同じオブジェクトではありません\")\n",
        "else:\n",
        "    print(\"\")"
      ],
      "execution_count": 0,
      "outputs": [
        {
          "output_type": "stream",
          "text": [
            "2歳ではありません\n"
          ],
          "name": "stdout"
        }
      ]
    },
    {
      "metadata": {
        "id": "-FZsj-VjHtKI",
        "colab_type": "code",
        "outputId": "db14aefa-9666-4d44-ee2e-42dabfd9306d",
        "colab": {
          "base_uri": "https://localhost:8080/",
          "height": 34
        }
      },
      "cell_type": "code",
      "source": [
        "list3 = [2,3,6,7]\n",
        "if 4 not in list3:\n",
        "  print(\"4は含まれていません\")"
      ],
      "execution_count": 0,
      "outputs": [
        {
          "output_type": "stream",
          "text": [
            "4は含まれていません\n"
          ],
          "name": "stdout"
        }
      ]
    },
    {
      "metadata": {
        "id": "JIhIJGNXIsqj",
        "colab_type": "text"
      },
      "cell_type": "markdown",
      "source": [
        "#for文"
      ]
    },
    {
      "metadata": {
        "id": "k7zwRUqVF2Mo",
        "colab_type": "code",
        "outputId": "a2809cde-f7d7-4ce6-c3f2-ae108a185aba",
        "colab": {
          "base_uri": "https://localhost:8080/",
          "height": 70
        }
      },
      "cell_type": "code",
      "source": [
        "for num in [4, 3, 12]:\n",
        "  print(\"num = \" + str(num))\n",
        "\n"
      ],
      "execution_count": 0,
      "outputs": [
        {
          "output_type": "stream",
          "text": [
            "num = 4\n",
            "num = 3\n",
            "num = 12\n"
          ],
          "name": "stdout"
        }
      ]
    },
    {
      "metadata": {
        "id": "AGVdwbLNF4wD",
        "colab_type": "code",
        "colab": {}
      },
      "cell_type": "code",
      "source": [
        "# In[]: FOR文2\n",
        "sum = 0\n",
        "for num in range(1, 1001):\n",
        "  sum += num;\n",
        "print(sum)\n"
      ],
      "execution_count": 0,
      "outputs": []
    },
    {
      "metadata": {
        "id": "npKqxYG4KItD",
        "colab_type": "code",
        "outputId": "47b5c3c8-7d09-4fc4-8879-f84a85cdc2b1",
        "colab": {
          "base_uri": "https://localhost:8080/",
          "height": 87
        }
      },
      "cell_type": "code",
      "source": [
        "for i in range(5):\n",
        "    if(i == 3): continue# iが3の時だけスルー\n",
        "    print(i)"
      ],
      "execution_count": 0,
      "outputs": [
        {
          "output_type": "stream",
          "text": [
            "0\n",
            "1\n",
            "2\n",
            "4\n"
          ],
          "name": "stdout"
        }
      ]
    },
    {
      "metadata": {
        "id": "BJoCuNR1KNI2",
        "colab_type": "code",
        "outputId": "92b8974f-7c8d-4496-9f71-6ae8c4545569",
        "colab": {
          "base_uri": "https://localhost:8080/",
          "height": 34
        }
      },
      "cell_type": "code",
      "source": [
        "for i in range(100):\n",
        "    if(i > 5):\n",
        "        print(\"途中終了\")\n",
        "        break\n",
        "        print(i)"
      ],
      "execution_count": 0,
      "outputs": [
        {
          "output_type": "stream",
          "text": [
            "途中終了\n"
          ],
          "name": "stdout"
        }
      ]
    },
    {
      "metadata": {
        "id": "Za_vyT5RE68_",
        "colab_type": "text"
      },
      "cell_type": "markdown",
      "source": [
        "#関数の定義\n",
        "別のpyファイルにモジュール，それらをまとめたフォルダ（パッケージ）として作っておく  \n",
        "呼び出す際は，ファイル名でnumpyなどのようにimportする．  \n",
        "(http://okuya-kazan.hatenablog.com/entry/2017/06/24/013541)"
      ]
    },
    {
      "metadata": {
        "id": "sNBRl2S-nR35",
        "colab_type": "code",
        "outputId": "3b1f1a83-0e46-48b5-b370-5a982cadbeff",
        "colab": {
          "base_uri": "https://localhost:8080/",
          "height": 34
        }
      },
      "cell_type": "code",
      "source": [
        "def fanc(a, b):\n",
        "  c = a + b\n",
        "  c = c * 2\n",
        "  return c\n",
        "# 関数呼び出し\n",
        "print(fanc(1, 2))"
      ],
      "execution_count": 0,
      "outputs": [
        {
          "output_type": "stream",
          "text": [
            "6\n"
          ],
          "name": "stdout"
        }
      ]
    },
    {
      "metadata": {
        "id": "2cw-3JWcJAye",
        "colab_type": "code",
        "colab": {}
      },
      "cell_type": "code",
      "source": [
        "x = 0                   # グローバル変数\n",
        "def my_func():\n",
        "    print(x)             # 参照することはできる\n",
        "    global x            # global宣言\n",
        "    x = 1              # global宣言すれば代入可能"
      ],
      "execution_count": 0,
      "outputs": []
    },
    {
      "metadata": {
        "id": "R2LC1uZpIyQU",
        "colab_type": "text"
      },
      "cell_type": "markdown",
      "source": [
        "##ラムダ式\n",
        "lambda式とは、関数に名前を付けずに定義するもの  \n",
        "https://www.sejuku.net/blog/23677"
      ]
    },
    {
      "metadata": {
        "id": "mjay4S_QIw7K",
        "colab_type": "code",
        "outputId": "c08a35a3-dfa5-4150-d271-7af2b7b989f0",
        "colab": {
          "base_uri": "https://localhost:8080/",
          "height": 52
        }
      },
      "cell_type": "code",
      "source": [
        "def func(price,tax):\n",
        "    return price + (price * tax)\n",
        " \n",
        "payment1 = func(100,0.08)\n",
        "print(payment1)\n",
        " \n",
        "#lambda式を用いる場合\n",
        "print((lambda price,tax:price + (price * tax))(100,0.08))"
      ],
      "execution_count": 0,
      "outputs": [
        {
          "output_type": "stream",
          "text": [
            "108.0\n",
            "108.0\n"
          ],
          "name": "stdout"
        }
      ]
    }
  ]
}