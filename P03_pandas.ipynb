{
  "nbformat": 4,
  "nbformat_minor": 0,
  "metadata": {
    "colab": {
      "name": "P03_pandas.ipynb",
      "version": "0.3.2",
      "provenance": [],
      "collapsed_sections": [],
      "toc_visible": true,
      "include_colab_link": true
    },
    "kernelspec": {
      "name": "python3",
      "display_name": "Python 3"
    }
  },
  "cells": [
    {
      "cell_type": "markdown",
      "metadata": {
        "id": "view-in-github",
        "colab_type": "text"
      },
      "source": [
        "<a href=\"https://colab.research.google.com/github/takumi0427/PythonPractice/blob/master/P03_pandas.ipynb\" target=\"_parent\"><img src=\"https://colab.research.google.com/assets/colab-badge.svg\" alt=\"Open In Colab\"/></a>"
      ]
    },
    {
      "metadata": {
        "id": "WK_74R4qjx5E",
        "colab_type": "text"
      },
      "cell_type": "markdown",
      "source": [
        "#Practice03 簡易データ解析"
      ]
    },
    {
      "metadata": {
        "id": "M2L0aYJikQ22",
        "colab_type": "text"
      },
      "cell_type": "markdown",
      "source": [
        "##Pandasの概要\n",
        "データ解析用のライブラリ．テーブルデータおよび時系列データに強い．  \n",
        "参考リンク  \n",
        "https://qiita.com/ysdyt/items/9ccca82fc5b504e7913a  \n",
        "https://qiita.com/tanemaki/items/2ed05e258ef4c9e6caac"
      ]
    },
    {
      "metadata": {
        "id": "8KkTsw8ikdiO",
        "colab_type": "text"
      },
      "cell_type": "markdown",
      "source": [
        "##ライブラリ"
      ]
    },
    {
      "metadata": {
        "id": "9Pgo2vdkikl1",
        "colab_type": "code",
        "colab": {}
      },
      "cell_type": "code",
      "source": [
        "import os\n",
        "import pandas as pd\n",
        "import numpy as np\n",
        "from sklearn import datasets"
      ],
      "execution_count": 0,
      "outputs": []
    },
    {
      "metadata": {
        "id": "UpThwk-f4lC_",
        "colab_type": "text"
      },
      "cell_type": "markdown",
      "source": [
        "##GoogleDriveでのファイルI/O設定"
      ]
    },
    {
      "metadata": {
        "id": "MIWaSLeGTZ2Z",
        "colab_type": "code",
        "outputId": "3c92d129-b7a7-487f-93b7-0eb9a905dd2a",
        "colab": {
          "base_uri": "https://localhost:8080/",
          "height": 195
        }
      },
      "cell_type": "code",
      "source": [
        "from google.colab import drive\n",
        "drive.mount('/content/gdrive')\n",
        "!ls /content/gdrive/My Drive/Colab Notebooks\n",
        "os.chdir(\"/content/gdrive/My Drive/Colab Notebooks/\")\n",
        "os.getcwd()"
      ],
      "execution_count": 0,
      "outputs": [
        {
          "output_type": "stream",
          "text": [
            "Go to this URL in a browser: https://accounts.google.com/o/oauth2/auth?client_id=947318989803-6bn6qk8qdgf4n4g3pfee6491hc0brc4i.apps.googleusercontent.com&redirect_uri=urn%3Aietf%3Awg%3Aoauth%3A2.0%3Aoob&scope=email%20https%3A%2F%2Fwww.googleapis.com%2Fauth%2Fdocs.test%20https%3A%2F%2Fwww.googleapis.com%2Fauth%2Fdrive%20https%3A%2F%2Fwww.googleapis.com%2Fauth%2Fdrive.photos.readonly%20https%3A%2F%2Fwww.googleapis.com%2Fauth%2Fpeopleapi.readonly&response_type=code\n",
            "\n",
            "Enter your authorization code:\n",
            "··········\n",
            "Mounted at /content/gdrive\n",
            "ls: cannot access '/content/gdrive/My': No such file or directory\n",
            "ls: cannot access 'Drive/Colab': No such file or directory\n",
            "ls: cannot access 'Notebooks': No such file or directory\n"
          ],
          "name": "stdout"
        },
        {
          "output_type": "execute_result",
          "data": {
            "text/plain": [
              "'/content/gdrive/My Drive/Colab Notebooks'"
            ]
          },
          "metadata": {
            "tags": []
          },
          "execution_count": 2
        }
      ]
    },
    {
      "metadata": {
        "id": "FKjLBtyncSrg",
        "colab_type": "code",
        "colab": {}
      },
      "cell_type": "code",
      "source": [
        "#HTML形式で出力する場合の設定\n",
        "pd.options.display.notebook_repr_html = True\n",
        "pd.options.display.precision = 2\n",
        "pd.options.display.max_rows = 5\n",
        "pd.set_option('display.max_columns', 160)"
      ],
      "execution_count": 0,
      "outputs": []
    },
    {
      "metadata": {
        "id": "lTY3iBVHjQk-",
        "colab_type": "text"
      },
      "cell_type": "markdown",
      "source": [
        "##データ読み込み・出力（CSV）"
      ]
    },
    {
      "metadata": {
        "id": "sNBRl2S-nR35",
        "colab_type": "code",
        "colab": {}
      },
      "cell_type": "code",
      "source": [
        "#読み込み\n",
        "#CSV\n",
        "df0 = pd.read_csv('data/route01.csv')\n",
        "print(df0.head(3))\n",
        "\n",
        "#EXCEL\n",
        "df1 = pd.read_excel('data/staymove01.xlsx', sheet_name='data01')\n",
        "print(df1.head(3))\n",
        "\n",
        "#保存\n",
        "df0.to_csv('results/route02.csv',index=False)\n",
        "df1.to_excel('results/staymove02.xlsx', sheet_name='Sheet1')"
      ],
      "execution_count": 0,
      "outputs": []
    },
    {
      "metadata": {
        "id": "Bve7Am1GeOaM",
        "colab_type": "text"
      },
      "cell_type": "markdown",
      "source": [
        "###シリーズデータ作成（1次元ベクトル）"
      ]
    },
    {
      "metadata": {
        "id": "OR1JEAj8eN_E",
        "colab_type": "code",
        "outputId": "f3320873-5b98-457c-d3ec-0c3d6fdc0cd5",
        "colab": {
          "base_uri": "https://localhost:8080/",
          "height": 105
        }
      },
      "cell_type": "code",
      "source": [
        "sr1 = pd.Series([1, 2, np.nan, 4])\n",
        "print(sr1)"
      ],
      "execution_count": 0,
      "outputs": [
        {
          "output_type": "stream",
          "text": [
            "0    1.0\n",
            "1    2.0\n",
            "2    NaN\n",
            "3    4.0\n",
            "dtype: float64\n"
          ],
          "name": "stdout"
        }
      ]
    },
    {
      "metadata": {
        "id": "uDVkzvUHUby7",
        "colab_type": "text"
      },
      "cell_type": "markdown",
      "source": [
        "###データフレーム作成（シリーズデータの集合テーブルデータ）"
      ]
    },
    {
      "metadata": {
        "id": "fTUvUkRDUK9X",
        "colab_type": "code",
        "colab": {}
      },
      "cell_type": "code",
      "source": [
        "#作成\n",
        "df2 = pd.DataFrame({\"col1\":[1,2,3],\"col2\":[3,2,3]})\n",
        "print(df2); print()\n",
        "\n",
        "#numpy配列からデータフレーム作成\n",
        "df3 = pd.DataFrame(np.array([[1,2,3,4,],[4,5,6,7],[4,5,6,7]]),\n",
        "                   index=['ONE','TWO','THREE'],\n",
        "                   columns= [\"c1\",\"c2\",\"c3\",\"c4\"])\n",
        "#逆にデータフレームをNumpy配列に変換\n",
        "print(df3.values);print()\n",
        "\n",
        "#列名変更\n",
        "df3.rename(columns={'c1':'col_1'}, inplace=True)\n",
        "df3.columns = [\"col_1\",\"col2\",\"col_3\",\"col4\"]\n",
        "print(df3); print()\n",
        "\n",
        "#行名変更\n",
        "df3.index = [\"ONE\",\"TWO\",\"in3\"]\n",
        "df3.rename(index={'TWO':'in2'}, inplace=True)\n",
        "print(df3)"
      ],
      "execution_count": 0,
      "outputs": []
    },
    {
      "metadata": {
        "id": "g1W6UDqls9lx",
        "colab_type": "text"
      },
      "cell_type": "markdown",
      "source": [
        "###データの情報"
      ]
    },
    {
      "metadata": {
        "id": "k5kA1f-NXPdS",
        "colab_type": "code",
        "colab": {}
      },
      "cell_type": "code",
      "source": [
        "print(\"基本情報\",df1.info()); print()\n",
        "print(\"(行数，列数)\",df1.shape); print()\n",
        "print(\"行名\",df1.index); print()\n",
        "print(\"列名\",df1.columns); print()\n",
        "print(\"各列の有効データ数\",df1.count()); print()\n",
        "print(\"各列のデータ型\",df1.dtypes)"
      ],
      "execution_count": 0,
      "outputs": []
    },
    {
      "metadata": {
        "id": "KzfE4ygbVr6n",
        "colab_type": "text"
      },
      "cell_type": "markdown",
      "source": [
        "##アクセス"
      ]
    },
    {
      "metadata": {
        "id": "MtKij8AEUZ3K",
        "colab_type": "code",
        "colab": {}
      },
      "cell_type": "code",
      "source": [
        "#列名で指定列抽出\n",
        "print(df1[['lat','lon']]); print()\n",
        "print(df1.stay.head(3)); print()\n",
        "\n",
        "#スライスで指定行抽出\n",
        "print(df1[[\"move\"]][1:3]); print()\n",
        "\n",
        "#列名の規則で抽出\n",
        "print(df1.ix[:, df1.columns.map(lambda x: x.startswith('l'))]) #列名頭の共通文字で"
      ],
      "execution_count": 0,
      "outputs": []
    },
    {
      "metadata": {
        "id": "Anzp-CkrGIje",
        "colab_type": "text"
      },
      "cell_type": "markdown",
      "source": [
        "###iloc[[行],[列]]による行・列番号によるアクセス"
      ]
    },
    {
      "metadata": {
        "id": "EAXStSfnGi6M",
        "colab_type": "code",
        "colab": {}
      },
      "cell_type": "code",
      "source": [
        "print(df1.iloc[[0,2],[2]]);print()\n",
        "#高速版\n",
        "print(df1.iat[0, 1])"
      ],
      "execution_count": 0,
      "outputs": []
    },
    {
      "metadata": {
        "id": "oNeyn6atGcEX",
        "colab_type": "text"
      },
      "cell_type": "markdown",
      "source": [
        "###loc[[行],[列]]による行・列名によるアクセス"
      ]
    },
    {
      "metadata": {
        "id": "o5DHvDb-HX0t",
        "colab_type": "code",
        "colab": {}
      },
      "cell_type": "code",
      "source": [
        "print(df1.loc[3:5,[\"lat\"]]); print()\n",
        "#高速版\n",
        "print(df3.at[\"in3\",'col2'])"
      ],
      "execution_count": 0,
      "outputs": []
    },
    {
      "metadata": {
        "id": "ICcD9HVOzeI3",
        "colab_type": "text"
      },
      "cell_type": "markdown",
      "source": [
        "##整形"
      ]
    },
    {
      "metadata": {
        "id": "yYhbBaHZyc3k",
        "colab_type": "code",
        "colab": {}
      },
      "cell_type": "code",
      "source": [
        "df4 = pd.DataFrame(np.array([[4,1,7,4],[6.4,2.1,5,1],[4,6,3,7]]),\n",
        "                   index=['r1','r2','r3'],\n",
        "                   columns= [\"c1\",\"c2\",\"c3\",\"c4\"])\n",
        "\n",
        "#データ型変換\n",
        "print(df4.astype('int8')); print()\n",
        "print(df4.astype('float64')); print()\n",
        "\n",
        "#行列入れ替え\n",
        "print(df4.T); print()\n",
        "\n",
        "#列の追加\n",
        "df4['c5'] = df4['c1'] + df4['c3']\n",
        "print(df4); print()\n",
        "df4.loc[:,'c6'] = df4['c1'] + 100\n",
        "print(df4); print()\n",
        "\n",
        "#指定列の削除\n",
        "print(df4.drop(\"c2\", axis=1)); print()\n",
        "\n",
        "#データの置換\n",
        "df4['c3'] = df4['c3'].replace(7, 40)\n",
        "print(df4); print()\n",
        "print(pd.DataFrame(df4.mask(df4[[\"c1\",\"c4\"]] > 2, 500)))\n",
        "\n",
        "print(pd.DataFrame(df4.mask(df4 > 2, 500))); print()\n"
      ],
      "execution_count": 0,
      "outputs": []
    },
    {
      "metadata": {
        "id": "g6lWgAt09HLH",
        "colab_type": "text"
      },
      "cell_type": "markdown",
      "source": [
        "##データフレームの結合，マージ\n",
        "http://sinhrks.hatenablog.com/entry/2015/01/28/073327"
      ]
    },
    {
      "metadata": {
        "id": "6LT9uq2Q9Ggb",
        "colab_type": "code",
        "colab": {}
      },
      "cell_type": "code",
      "source": [
        "df5 = pd.DataFrame(np.array([[4,1,5,2],[2,5,3,3],[6,0,4,3]]),\n",
        "                   index=['r1','r2','r3'],\n",
        "                   columns= [\"key\",\"c2\",\"c3\",\"c4\"])\n",
        "df6 = pd.DataFrame(np.array([[2,5,3,6],[3,6,1,5],[4,2,6,2]]),\n",
        "                   index=['r1','r2','r3'],\n",
        "                   columns= [\"key\",\"c2\",\"c3\",\"c4\"])\n",
        "\n",
        "#複数データフレームの結合\n",
        "print(pd.concat([df4, df5], axis=0)); print()\n",
        "print(pd.concat([df4, df5], axis=1)); print()\n",
        "\n",
        "#行方向に結合してインデックスを振り直す\n",
        "print(df4.append(df5, ignore_index=True)); print()\n",
        "\n",
        "#共通の列で結合\n",
        "print(pd.merge(df5, df6, on='key')); print()\n",
        "#異なる列で結合\n",
        "print(pd.merge(df5, df6, on=['key', 'c3']))\n",
        "\n",
        "#ダミー化\n",
        "df12 = pd.DataFrame({\"fm\":[\"f\",\"f\",\"m\"]})\n",
        "print(pd.get_dummies(df12, columns=['fm']))"
      ],
      "execution_count": 0,
      "outputs": []
    },
    {
      "metadata": {
        "id": "WLATHeo4ISQJ",
        "colab_type": "text"
      },
      "cell_type": "markdown",
      "source": [
        "##フィルタリング"
      ]
    },
    {
      "metadata": {
        "id": "mGrtwL7BIPW6",
        "colab_type": "code",
        "colab": {}
      },
      "cell_type": "code",
      "source": [
        "print(df0[df0.section < 3].head(3)); print()\n",
        "#積集合\n",
        "print(df0[(df0.section <= 5) & (df0.route == \"M\")].head(3)); print()\n",
        "#和集合\n",
        "print(df0[(df0.section < 2) | (df0.DDC <= 2)].head(3)); print()\n",
        "\n",
        "# queryメソッドを使うと、複数条件の指定で、特定カラムだけ出力もできる\n",
        "df0[['DDC','route','PSDS1']].query('DDC > 2 and PSDS1 < 20')"
      ],
      "execution_count": 0,
      "outputs": []
    },
    {
      "metadata": {
        "id": "pdSE1n9QKIug",
        "colab_type": "text"
      },
      "cell_type": "markdown",
      "source": [
        "##ソート"
      ]
    },
    {
      "metadata": {
        "id": "D6bf_S8V0Rti",
        "colab_type": "code",
        "colab": {}
      },
      "cell_type": "code",
      "source": [
        "#デフォルトは昇順ascending=True\n",
        "print(df1.sort_index(by='lat')); print()\n",
        "print(df1.sort_index(by=['lon','stay'], ascending=[True,False]))"
      ],
      "execution_count": 0,
      "outputs": []
    },
    {
      "metadata": {
        "id": "Zd1DeWImABBt",
        "colab_type": "text"
      },
      "cell_type": "markdown",
      "source": [
        "##集計"
      ]
    },
    {
      "metadata": {
        "id": "DWZVSCXtFeuH",
        "colab_type": "text"
      },
      "cell_type": "markdown",
      "source": [
        "###欠損値の削除"
      ]
    },
    {
      "metadata": {
        "id": "0_p60LoaFdot",
        "colab_type": "code",
        "colab": {}
      },
      "cell_type": "code",
      "source": [
        "df7 = pd.DataFrame(np.array([[4,1,3,4],[6,np.nan,3,1],[4,6,3,7]]),\n",
        "                   index=['r1','r2','r3'],\n",
        "                   columns= [\"c1\",\"c2\",\"c3\",\"c4\"])\n",
        "print(df7); print()\n",
        "\n",
        "#いずれかの列に欠損があればその行ごと削除\n",
        "print(df7.dropna()); print()\n",
        "\n",
        "#欠除部を0で埋める\n",
        "print(df7.fillna(0)); print()\n",
        "\n",
        "#欠除部を前の行のデータで埋める\n",
        "print(df7.fillna(method='ffill'))"
      ],
      "execution_count": 0,
      "outputs": []
    },
    {
      "metadata": {
        "id": "7Bqq0wX0a8Rl",
        "colab_type": "code",
        "outputId": "2a70726c-07d8-4194-a87f-55098c1cd3bc",
        "colab": {
          "base_uri": "https://localhost:8080/",
          "height": 2393
        }
      },
      "cell_type": "code",
      "source": [
        "pd.options.display.max_rows = 100\n",
        "\n",
        "#データ概要\n",
        "print(df3.describe());print()\n",
        "\n",
        "#全データ集計\n",
        "print(df4.sum());print()\n",
        "\n",
        "#グループ毎に集計\n",
        "print(df1.groupby(['id', 'place']).sum());print()\n",
        "df9 = df0[[\"route\",\"section\",\"DDC\",\"PSDS10\"]]\n",
        "\n",
        "#route,section毎にDDCとPASA10の平均と標準偏差を出す\n",
        "print(df9.groupby(['route', 'section'])[\"DDC\",\"PSDS10\"].agg(['mean', 'std']));print()"
      ],
      "execution_count": 0,
      "outputs": [
        {
          "output_type": "stream",
          "text": [
            "       col_1  col2  col_3   col4   col5    col6\n",
            "count   3.00  3.00   3.00   3.00   3.00    3.00\n",
            "mean    3.00  4.00   5.00   8.00   8.00  103.00\n",
            "std     1.73  1.73   1.73   3.46   3.46    1.73\n",
            "min     1.00  2.00   3.00   4.00   4.00  101.00\n",
            "25%     2.50  3.50   4.50   7.00   7.00  102.50\n",
            "50%     4.00  5.00   6.00  10.00  10.00  104.00\n",
            "75%     4.00  5.00   6.00  10.00  10.00  104.00\n",
            "max     4.00  5.00   6.00  10.00  10.00  104.00\n",
            "\n",
            "c1     14.4\n",
            "c2      9.1\n",
            "c3     48.0\n",
            "c4     12.0\n",
            "c5     29.4\n",
            "c6    314.4\n",
            "dtype: float64\n",
            "\n",
            "             lat     lon  stay  move\n",
            "id place                            \n",
            "1  A       43.31  142.54    15     3\n",
            "   B       43.30  142.53    10    30\n",
            "   C       43.31  142.54    60    10\n",
            "   D      129.94  427.69    40    10\n",
            "2  A       43.31  142.54    10    30\n",
            "   B       43.30  142.53    20     5\n",
            "   C       43.31  142.54    60     0\n",
            "\n",
            "                DDC       PSDS10       \n",
            "               mean   std   mean    std\n",
            "route section                          \n",
            "M     1        1.88  0.66   6.72   6.30\n",
            "      2        1.91  0.52   7.76   4.31\n",
            "      3        1.86  0.57   7.88   3.21\n",
            "      4        1.92  0.65   8.80   3.28\n",
            "      5        1.79  0.64   6.99   4.07\n",
            "      6        1.68  0.62   5.90   4.32\n",
            "      7        1.67  0.64   7.68   5.60\n",
            "      8        1.84  0.57  12.36   9.60\n",
            "      9        1.89  0.71  11.87   6.06\n",
            "      10       2.78  0.88  13.87  13.10\n",
            "      11       2.70  0.87  10.63   4.27\n",
            "      12       1.96  0.48   8.53   3.51\n",
            "      13       2.09  0.82  12.22   6.44\n",
            "      14       2.39  0.83  19.23  15.54\n",
            "      15       2.67  1.10  21.96  15.57\n",
            "      16       2.73  1.03  19.25  10.14\n",
            "      17       2.73  1.07  13.76   6.09\n",
            "      18       2.30  0.98  10.09  10.03\n",
            "      19       1.91  0.66  11.97   9.37\n",
            "      20       1.76  0.73  11.21   5.73\n",
            "      21       1.93  0.93  14.36  11.25\n",
            "      22       2.43  0.85  25.01  21.55\n",
            "      23       2.47  0.64  26.27  16.26\n",
            "      24       2.48  1.19  24.91  34.75\n",
            "      25       2.58  1.19  20.97  24.96\n",
            "      26       1.97  1.07  12.42  11.78\n",
            "      27       1.71  0.70  15.48  15.24\n",
            "      28       1.83  0.77  18.73  14.89\n",
            "      29       2.43  0.92  15.67   7.67\n",
            "      30       2.41  0.91  11.42   6.05\n",
            "      31       2.14  0.80  11.81   9.46\n",
            "      32       2.13  0.82  15.78   9.19\n",
            "      33       2.35  0.81  22.47  16.87\n",
            "      34       3.16  1.20  26.58  25.21\n",
            "      35       2.19  0.81  13.02  11.06\n",
            "      36       1.91  0.90   8.01   6.39\n",
            "      37       2.09  0.92   8.08   7.85\n",
            "      38       2.12  0.74   5.85   3.17\n",
            "      39       1.75  0.68   4.42   2.27\n",
            "      40       1.70  0.67   5.16   2.52\n",
            "      41       1.74  0.70   4.33   1.83\n",
            "      42       1.94  0.88   4.96   2.51\n",
            "      43       1.97  0.92   8.42   5.58\n",
            "      44       1.94  0.67  10.51  10.64\n",
            "      45       1.74  0.52   7.39   4.29\n",
            "      46       1.60  0.52   5.96   3.09\n",
            "      47       1.76  0.64   7.08   4.67\n",
            "      48       2.08  0.77   8.27   5.16\n",
            "      49       2.10  0.70   8.95   4.84\n",
            "      50       1.92  0.64   8.59   4.41\n",
            "...             ...   ...    ...    ...\n",
            "T3    57       1.50  0.71   8.14   6.31\n",
            "      58       1.50  0.71   7.25   1.08\n",
            "      59       1.50  0.71   8.68   6.67\n",
            "      60       1.50  0.71  10.21   9.44\n",
            "      61       1.50  0.71   7.28   3.09\n",
            "      62       1.65  0.91   7.25   4.74\n",
            "      63       2.33  1.46  10.48   8.25\n",
            "      64       2.71  1.20  15.15  10.17\n",
            "      65       2.21  0.30  17.89   3.80\n",
            "      66       2.00  0.00  16.34   0.31\n",
            "      67       2.00  0.00  18.35   7.17\n",
            "      68       2.14  0.20  20.57  14.70\n",
            "      69       2.35  0.49  16.59  13.77\n",
            "      70       2.50  0.71  13.25  10.15\n",
            "      71       2.50  0.71  13.96   2.91\n",
            "      72       2.50  0.71  15.14   3.87\n",
            "      73       2.50  0.71  18.38   4.76\n",
            "      74       2.50  0.71  24.39  19.54\n",
            "      75       2.50  0.71  31.64  12.50\n",
            "      76       2.50  0.71  36.16  10.23\n",
            "      77       2.50  0.71  38.62  30.53\n",
            "      78       2.50  0.71  40.82  20.12\n",
            "      79       2.50  0.71  43.14   8.24\n",
            "      80       2.50  0.71  38.75   7.54\n",
            "      81       2.50  0.71  32.81  21.70\n",
            "      82       2.50  0.71  33.58  20.12\n",
            "      83       2.50  0.71  33.90   7.50\n",
            "      84       2.51  0.73  35.00   3.03\n",
            "      85       2.71  1.00  36.23   2.96\n",
            "      86       2.92  1.29  37.40   3.05\n",
            "      87       3.00  1.41  33.81   0.98\n",
            "      88       3.00  1.41  27.69   8.26\n",
            "      89       3.00  1.41  18.66   5.30\n",
            "      90       3.00  1.41  14.74   4.16\n",
            "      91       3.00  1.41  20.24   0.06\n",
            "      92       3.00  1.41  24.54   6.10\n",
            "      93       3.00  1.41  25.91   9.98\n",
            "      94       3.00  1.41  26.77  13.39\n",
            "      95       3.00  1.41  35.81   3.71\n",
            "      96       3.00  1.41  45.43  24.72\n",
            "      97       3.00  1.41  53.39  15.80\n",
            "      98       3.00  1.41  55.01  16.42\n",
            "      99       3.00  1.41  47.39  31.40\n",
            "      100      3.00  1.41  37.54  15.26\n",
            "      101      2.98  1.44  30.65   3.12\n",
            "      102      2.92  1.53  26.53   2.97\n",
            "      103      2.85  1.62  21.92   3.52\n",
            "      104      2.98  1.97  20.21   0.18\n",
            "      105      3.15  2.39  19.52   5.45\n",
            "      106      2.65  1.87  15.57   6.53\n",
            "\n",
            "[690 rows x 4 columns]\n",
            "\n"
          ],
          "name": "stdout"
        }
      ]
    },
    {
      "metadata": {
        "id": "dgwYfaWDNgOJ",
        "colab_type": "text"
      },
      "cell_type": "markdown",
      "source": [
        "##時系列データ"
      ]
    },
    {
      "metadata": {
        "id": "GXPNYPinMa3Y",
        "colab_type": "code",
        "colab": {}
      },
      "cell_type": "code",
      "source": [
        "df10 = df0[(df0.route==\"M\")&(df0.subname==1)][[\"DDC\",\"PSDS1\"]]\n",
        "\n",
        "#指定日からn日間のタイムスタンプをインデックスとして取得\n",
        "df10.index = pd.date_range('20170101', periods=len(df10))\n",
        "\n",
        "#月，日，曜日の情報を付加\n",
        "df10['month'] = list(pd.Series(df10.index).apply(lambda x: x.month))\n",
        "df10['day'] = list(pd.Series(df10.index).apply(lambda x: x.day))\n",
        "df10['week'] = list(pd.Series(df10.index).apply(lambda x: x.dayofweek))  #月曜0\n",
        "print(df10.head(10)); print()\n",
        "\n",
        "#datetimeに変換\n",
        "print(pd.to_datetime(\"20190922\")); print()\n",
        "\n",
        "#期間毎に集計\n",
        "print(df10.resample('W').mean().head(10)); print()\n",
        "print(df10.resample('M').mean())"
      ],
      "execution_count": 0,
      "outputs": []
    },
    {
      "metadata": {
        "id": "NfTEXgUeOWR0",
        "colab_type": "code",
        "colab": {}
      },
      "cell_type": "code",
      "source": [
        ""
      ],
      "execution_count": 0,
      "outputs": []
    }
  ]
}